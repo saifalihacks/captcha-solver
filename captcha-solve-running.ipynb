{
 "cells": [
  {
   "cell_type": "code",
   "execution_count": 1,
   "metadata": {},
   "outputs": [],
   "source": [
    "import cv2\n",
    "import numpy as np\n",
    "import matplotlib.pyplot as plt\n",
    "import pytesseract"
   ]
  },
  {
   "cell_type": "code",
   "execution_count": 2,
   "metadata": {},
   "outputs": [],
   "source": [
    "img1  = cv2.imread('captchas/captcha004.png',0)\n",
    "img2 = cv2.imread('captchas/captcha015.png',0)"
   ]
  },
  {
   "cell_type": "code",
   "execution_count": 3,
   "metadata": {},
   "outputs": [],
   "source": [
    "def showImage(img):\n",
    "    cv2.imshow('something',img)\n",
    "    cv2.waitKey(0)\n",
    "    cv2.destroyAllWindows()   "
   ]
  },
  {
   "cell_type": "code",
   "execution_count": 4,
   "metadata": {},
   "outputs": [],
   "source": [
    "croppedImg1 = img1[11:67,42:178]\n",
    "croppedImg2 = img2[11:67,42:178]"
   ]
  },
  {
   "cell_type": "code",
   "execution_count": 5,
   "metadata": {},
   "outputs": [],
   "source": [
    "blurImg1 = cv2.medianBlur(croppedImg1,3)\n",
    "blurImg2 = cv2.medianBlur(croppedImg2,3)"
   ]
  },
  {
   "cell_type": "code",
   "execution_count": 6,
   "metadata": {},
   "outputs": [],
   "source": [
    "def removeLineNoise(inputImg):\n",
    "    img = inputImg\n",
    "    for i in range(img.shape[0]):\n",
    "        for j in range(img.shape[1]):\n",
    "            flag = False\n",
    "            if(img[i,j]!=50 and img[i,j]!=255):\n",
    "                for k in range(img.shape[0]):\n",
    "                    if(img[k,j]==50):\n",
    "                        flag = True\n",
    "\n",
    "                if(flag):\n",
    "                    img[i,j]=50\n",
    "                else:\n",
    "                    img[i,j]=255\n",
    "    return img"
   ]
  },
  {
   "cell_type": "code",
   "execution_count": 7,
   "metadata": {},
   "outputs": [],
   "source": [
    "outputImg1 = removeLineNoise(blurImg1)\n",
    "outputImg2 = removeLineNoise(blurImg2)"
   ]
  },
  {
   "cell_type": "code",
   "execution_count": 8,
   "metadata": {},
   "outputs": [],
   "source": [
    "blurOutput1  = cv2.medianBlur(outputImg1,3)\n",
    "blurOutput2 = cv2.medianBlur(outputImg2,3)"
   ]
  },
  {
   "cell_type": "code",
   "execution_count": 9,
   "metadata": {},
   "outputs": [
    {
     "data": {
      "text/plain": [
       "'a4cpt'"
      ]
     },
     "execution_count": 9,
     "metadata": {},
     "output_type": "execute_result"
    }
   ],
   "source": [
    "textOutput1 = pytesseract.image_to_string(blurOutput1)\n",
    "textOutput1"
   ]
  },
  {
   "cell_type": "code",
   "execution_count": 10,
   "metadata": {},
   "outputs": [
    {
     "data": {
      "text/plain": [
       "'n7s5v'"
      ]
     },
     "execution_count": 10,
     "metadata": {},
     "output_type": "execute_result"
    }
   ],
   "source": [
    "textOutput2 = pytesseract.image_to_string(blurOutput2)\n",
    "textOutput2"
   ]
  },
  {
   "cell_type": "code",
   "execution_count": null,
   "metadata": {},
   "outputs": [],
   "source": []
  }
 ],
 "metadata": {
  "kernelspec": {
   "display_name": "Python 3",
   "language": "python",
   "name": "python3"
  },
  "language_info": {
   "codemirror_mode": {
    "name": "ipython",
    "version": 3
   },
   "file_extension": ".py",
   "mimetype": "text/x-python",
   "name": "python",
   "nbconvert_exporter": "python",
   "pygments_lexer": "ipython3",
   "version": "3.6.8rc1"
  }
 },
 "nbformat": 4,
 "nbformat_minor": 2
}
